{
 "cells": [
  {
   "cell_type": "code",
   "execution_count": 51,
   "metadata": {},
   "outputs": [
    {
     "name": "stdout",
     "output_type": "stream",
     "text": [
      "Mean Squared Error (Ridge Regression): 2819.1207673377103\n"
     ]
    }
   ],
   "source": [
    "import numpy as np\n",
    "from sklearn.datasets import load_diabetes\n",
    "from sklearn.preprocessing import StandardScaler\n",
    "from sklearn.model_selection import train_test_split\n",
    "from sklearn.metrics import mean_squared_error\n",
    "\n",
    "# Load the Diabetes dataset\n",
    "diabetes = load_diabetes()\n",
    "X, y = diabetes.data, diabetes.target\n",
    "\n",
    "# Standardize features\n",
    "scaler = StandardScaler()\n",
    "X = scaler.fit_transform(X)\n",
    "\n",
    "# Add a column of ones for the bias term\n",
    "X = np.c_[np.ones(X.shape[0]), X]\n",
    "\n",
    "# Split data into training and testing sets\n",
    "X_train, X_test, y_train, y_test = train_test_split(X, y, test_size=0.33, random_state=42)\n",
    "\n",
    "# Define the Ridge Regression class with Gradient Descent\n",
    "class RidgeRegressionGD:\n",
    "    def __init__(self, learning_rate=0.01, iterations=50000, alpha=0.4):\n",
    "        self.learning_rate = learning_rate\n",
    "        self.iterations = iterations\n",
    "        self.alpha = alpha\n",
    "\n",
    "    def fit(self, X, y):\n",
    "        self.theta = np.zeros(X.shape[1])  # Initialize theta with zeros\n",
    "        m = X.shape[0]  # Number of training examples\n",
    "\n",
    "        for _ in range(self.iterations):\n",
    "            # Calculate predictions\n",
    "            y_pred = np.dot(X, self.theta)\n",
    "            # Calculate gradient\n",
    "            grad = (1/m) * (np.dot(X.T, (y_pred - y)) + self.alpha * self.theta)\n",
    "            # Update theta\n",
    "            self.theta -= self.learning_rate * grad\n",
    "\n",
    "    def predict(self, X):\n",
    "        return np.dot(X, self.theta)\n",
    "\n",
    "# Instantiate and fit the Ridge Regression model\n",
    "ridge_model = RidgeRegressionGD(learning_rate=0.01, iterations=50000, alpha=0.1)\n",
    "ridge_model.fit(X_train, y_train)\n",
    "\n",
    "# Make predictions on the test set\n",
    "y_pred = ridge_model.predict(X_test)\n",
    "\n",
    "# Calculate Mean Squared Error\n",
    "mse = mean_squared_error(y_test, y_pred)\n",
    "print(\"Mean Squared Error (Ridge Regression):\", mse)\n"
   ]
  },
  {
   "cell_type": "code",
   "execution_count": 23,
   "metadata": {},
   "outputs": [
    {
     "name": "stdout",
     "output_type": "stream",
     "text": [
      "Theta: [152.62080009   1.87168817 -11.30390888  26.12550965  16.44660687\n",
      "  -4.70156593  -6.03767516 -10.17278445   7.03797685  19.71972195\n",
      "   3.3354545 ]\n",
      "Mean Squared Error: 2891.7712713347278\n"
     ]
    }
   ],
   "source": [
    "def ridge_regression_gradient_descent(X, y, alpha=1, learning_rate=0.01, max_iters=50000, tol=1e-4):\n",
    "    m, n = X.shape\n",
    "    # Initialize the weights with zeros\n",
    "    theta = np.zeros(n)\n",
    "    # Initialize the cost history\n",
    "    cost_history = []\n",
    "    # Perform gradient descent\n",
    "    for i in range(max_iters):\n",
    "        # Calculate the predictions\n",
    "        predictions = np.dot(X, theta)\n",
    "        # Calculate the error\n",
    "        error = predictions - y\n",
    "        # Calculate the gradient\n",
    "        gradient = (2/m) * (np.dot(X.T, error) + alpha * theta)\n",
    "        # Update the weights\n",
    "        theta -= learning_rate * gradient\n",
    "        # Calculate the cost\n",
    "        cost = (1/m) * np.sum((error ** 2)) + alpha * np.sum(theta ** 2)\n",
    "        cost_history.append(cost)\n",
    "        # Check convergence\n",
    "        if len(cost_history) > 1 and np.abs(cost_history[-1] - cost_history[-2]) < tol:\n",
    "            break\n",
    "    return theta, cost_history\n",
    "\n",
    "# Add a bias term to X_train_scaled\n",
    "X_train_scaled_with_bias = np.c_[np.ones((len(X_train_scaled), 1)), X_train_scaled]\n",
    "\n",
    "# Set the regularization parameter (alpha)\n",
    "alpha = 0.01\n",
    "\n",
    "# Set the learning rate\n",
    "learning_rate = 0.01\n",
    "\n",
    "# Set the maximum number of iterations\n",
    "max_iters = 50000\n",
    "\n",
    "# Set the tolerance for convergence\n",
    "tol = 1e-4\n",
    "\n",
    "# Run ridge regression gradient descent\n",
    "theta, cost_history = ridge_regression_gradient_descent(X_train_scaled_with_bias, y_train, alpha, learning_rate, max_iters, tol)\n",
    "\n",
    "print(\"Theta:\", theta)\n",
    "\n",
    "# Calculate predictions for the test set\n",
    "X_test_scaled_with_bias = np.c_[np.ones((len(X_test_scaled), 1)), X_test_scaled]\n",
    "predictions = np.dot(X_test_scaled_with_bias, theta)\n",
    "\n",
    "# Calculate the mean squared error on the test set\n",
    "mse = mean_squared_error(y_test, predictions)\n",
    "print(\"Mean Squared Error:\", mse)\n",
    "\n"
   ]
  }
 ],
 "metadata": {
  "kernelspec": {
   "display_name": ".venv",
   "language": "python",
   "name": "python3"
  },
  "language_info": {
   "codemirror_mode": {
    "name": "ipython",
    "version": 3
   },
   "file_extension": ".py",
   "mimetype": "text/x-python",
   "name": "python",
   "nbconvert_exporter": "python",
   "pygments_lexer": "ipython3",
   "version": "3.12.0"
  }
 },
 "nbformat": 4,
 "nbformat_minor": 2
}
