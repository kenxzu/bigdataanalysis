{
 "cells": [
  {
   "cell_type": "code",
   "execution_count": 2,
   "metadata": {},
   "outputs": [],
   "source": [
    "import pandas as pd\n",
    "\n",
    "import pyspark\n",
    "from pyspark.sql import SparkSession\n",
    "from pyspark.ml.regression import LinearRegression\n",
    "from pyspark.ml.feature import VectorAssembler"
   ]
  },
  {
   "cell_type": "code",
   "execution_count": 3,
   "metadata": {},
   "outputs": [],
   "source": [
    "spark= SparkSession.builder.appName(\"DataFrame\").getOrCreate()"
   ]
  },
  {
   "cell_type": "code",
   "execution_count": 15,
   "metadata": {},
   "outputs": [],
   "source": [
    "#READING DATASET \n",
    "df_pyspark = spark.read.option('header', 'true').csv('teams.csv', inferSchema=True)"
   ]
  },
  {
   "cell_type": "code",
   "execution_count": 16,
   "metadata": {},
   "outputs": [
    {
     "name": "stdout",
     "output_type": "stream",
     "text": [
      "root\n",
      " |-- team: string (nullable = true)\n",
      " |-- year: integer (nullable = true)\n",
      " |-- athletes: integer (nullable = true)\n",
      " |-- events: integer (nullable = true)\n",
      " |-- age: double (nullable = true)\n",
      " |-- height: double (nullable = true)\n",
      " |-- weight: double (nullable = true)\n",
      " |-- prev_medals: double (nullable = true)\n",
      " |-- medals: integer (nullable = true)\n",
      "\n"
     ]
    }
   ],
   "source": [
    "df_pyspark.printSchema()"
   ]
  },
  {
   "cell_type": "code",
   "execution_count": 18,
   "metadata": {},
   "outputs": [
    {
     "name": "stdout",
     "output_type": "stream",
     "text": [
      "+----+----+--------+------+----+------+------+-----------+------+\n",
      "|team|year|athletes|events| age|height|weight|prev_medals|medals|\n",
      "+----+----+--------+------+----+------+------+-----------+------+\n",
      "| AFG|1964|       8|     8|22.0| 161.0|  64.2|        0.0|     0|\n",
      "| AFG|1968|       5|     5|23.2| 170.2|  70.0|        0.0|     0|\n",
      "| AFG|1972|       8|     8|29.0| 168.3|  63.8|        0.0|     0|\n",
      "| AFG|1980|      11|    11|23.6| 168.4|  63.2|        0.0|     0|\n",
      "| AFG|2004|       5|     5|18.6| 170.8|  64.8|        0.0|     0|\n",
      "| AFG|2008|       4|     4|22.5| 179.2|  62.8|        0.0|     1|\n",
      "| AFG|2012|       6|     6|24.8| 171.7|  60.8|        1.0|     1|\n",
      "| AFG|2016|       3|     3|24.7| 173.7|  74.0|        1.0|     0|\n",
      "| AHO|1964|       4|     4|28.5| 171.2|  69.4|        0.0|     0|\n",
      "| AHO|1968|       5|     4|31.0| 173.2|  67.8|        0.0|     0|\n",
      "| AHO|1972|       2|     2|38.5| 164.0|  86.0|        0.0|     0|\n",
      "| AHO|1976|       4|     4|27.3| 174.5|  66.0|        0.0|     0|\n",
      "| AHO|1984|      13|    10|18.2| 181.1|  69.8|        0.0|     0|\n",
      "| AHO|1988|       4|     4|25.0| 193.0|  80.0|        0.0|     1|\n",
      "| AHO|1992|       4|     4|30.2| 178.0|  83.5|        1.0|     0|\n",
      "| AHO|1996|       7|     7|30.1| 178.0|  83.2|        0.0|     0|\n",
      "| AHO|2000|       8|     8|30.6| 179.1|  79.6|        0.0|     0|\n",
      "| AHO|2004|       3|     3|32.3| 183.7|  80.0|        0.0|     0|\n",
      "| AHO|2008|       4|     4|23.0| 178.8|  74.5|        0.0|     0|\n",
      "| ALB|1996|       9|     7|26.8| 169.0|  67.5|        0.0|     0|\n",
      "+----+----+--------+------+----+------+------+-----------+------+\n",
      "only showing top 20 rows\n",
      "\n"
     ]
    }
   ],
   "source": [
    "df_pyspark =spark.read.csv('teams.csv', header=True, inferSchema=True)\n",
    "df_pyspark.show()"
   ]
  },
  {
   "cell_type": "code",
   "execution_count": 19,
   "metadata": {},
   "outputs": [
    {
     "data": {
      "text/plain": [
       "pyspark.sql.dataframe.DataFrame"
      ]
     },
     "execution_count": 19,
     "metadata": {},
     "output_type": "execute_result"
    }
   ],
   "source": [
    "type(df_pyspark)"
   ]
  },
  {
   "cell_type": "code",
   "execution_count": 22,
   "metadata": {},
   "outputs": [
    {
     "data": {
      "text/plain": [
       "[Row(team='AFG', year=1964, athletes=8, events=8, age=22.0, height=161.0, weight=64.2, prev_medals=0.0, medals=0),\n",
       " Row(team='AFG', year=1968, athletes=5, events=5, age=23.2, height=170.2, weight=70.0, prev_medals=0.0, medals=0),\n",
       " Row(team='AFG', year=1972, athletes=8, events=8, age=29.0, height=168.3, weight=63.8, prev_medals=0.0, medals=0)]"
      ]
     },
     "execution_count": 22,
     "metadata": {},
     "output_type": "execute_result"
    }
   ],
   "source": [
    "df_pyspark.head(3)"
   ]
  },
  {
   "cell_type": "code",
   "execution_count": 23,
   "metadata": {},
   "outputs": [
    {
     "name": "stdout",
     "output_type": "stream",
     "text": [
      "+----+----+--------+------+----+------+------+-----------+------+\n",
      "|team|year|athletes|events| age|height|weight|prev_medals|medals|\n",
      "+----+----+--------+------+----+------+------+-----------+------+\n",
      "| AFG|1964|       8|     8|22.0| 161.0|  64.2|        0.0|     0|\n",
      "| AFG|1968|       5|     5|23.2| 170.2|  70.0|        0.0|     0|\n",
      "| AFG|1972|       8|     8|29.0| 168.3|  63.8|        0.0|     0|\n",
      "| AFG|1980|      11|    11|23.6| 168.4|  63.2|        0.0|     0|\n",
      "| AFG|2004|       5|     5|18.6| 170.8|  64.8|        0.0|     0|\n",
      "| AFG|2008|       4|     4|22.5| 179.2|  62.8|        0.0|     1|\n",
      "| AFG|2012|       6|     6|24.8| 171.7|  60.8|        1.0|     1|\n",
      "| AFG|2016|       3|     3|24.7| 173.7|  74.0|        1.0|     0|\n",
      "| AHO|1964|       4|     4|28.5| 171.2|  69.4|        0.0|     0|\n",
      "| AHO|1968|       5|     4|31.0| 173.2|  67.8|        0.0|     0|\n",
      "| AHO|1972|       2|     2|38.5| 164.0|  86.0|        0.0|     0|\n",
      "| AHO|1976|       4|     4|27.3| 174.5|  66.0|        0.0|     0|\n",
      "| AHO|1984|      13|    10|18.2| 181.1|  69.8|        0.0|     0|\n",
      "| AHO|1988|       4|     4|25.0| 193.0|  80.0|        0.0|     1|\n",
      "| AHO|1992|       4|     4|30.2| 178.0|  83.5|        1.0|     0|\n",
      "| AHO|1996|       7|     7|30.1| 178.0|  83.2|        0.0|     0|\n",
      "| AHO|2000|       8|     8|30.6| 179.1|  79.6|        0.0|     0|\n",
      "| AHO|2004|       3|     3|32.3| 183.7|  80.0|        0.0|     0|\n",
      "| AHO|2008|       4|     4|23.0| 178.8|  74.5|        0.0|     0|\n",
      "| ALB|1996|       9|     7|26.8| 169.0|  67.5|        0.0|     0|\n",
      "+----+----+--------+------+----+------+------+-----------+------+\n",
      "only showing top 20 rows\n",
      "\n"
     ]
    }
   ],
   "source": [
    "df_pyspark.show()"
   ]
  },
  {
   "cell_type": "code",
   "execution_count": 25,
   "metadata": {},
   "outputs": [
    {
     "name": "stdout",
     "output_type": "stream",
     "text": [
      "+----+\n",
      "|team|\n",
      "+----+\n",
      "| AFG|\n",
      "| AFG|\n",
      "| AFG|\n",
      "| AFG|\n",
      "| AFG|\n",
      "| AFG|\n",
      "| AFG|\n",
      "| AFG|\n",
      "| AHO|\n",
      "| AHO|\n",
      "| AHO|\n",
      "| AHO|\n",
      "| AHO|\n",
      "| AHO|\n",
      "| AHO|\n",
      "| AHO|\n",
      "| AHO|\n",
      "| AHO|\n",
      "| AHO|\n",
      "| ALB|\n",
      "+----+\n",
      "only showing top 20 rows\n",
      "\n"
     ]
    }
   ],
   "source": [
    "df_pyspark.select('team').show()"
   ]
  },
  {
   "cell_type": "code",
   "execution_count": 27,
   "metadata": {},
   "outputs": [
    {
     "name": "stdout",
     "output_type": "stream",
     "text": [
      "+----+----+\n",
      "|team|year|\n",
      "+----+----+\n",
      "| AFG|1964|\n",
      "| AFG|1968|\n",
      "| AFG|1972|\n",
      "| AFG|1980|\n",
      "| AFG|2004|\n",
      "| AFG|2008|\n",
      "| AFG|2012|\n",
      "| AFG|2016|\n",
      "| AHO|1964|\n",
      "| AHO|1968|\n",
      "| AHO|1972|\n",
      "| AHO|1976|\n",
      "| AHO|1984|\n",
      "| AHO|1988|\n",
      "| AHO|1992|\n",
      "| AHO|1996|\n",
      "| AHO|2000|\n",
      "| AHO|2004|\n",
      "| AHO|2008|\n",
      "| ALB|1996|\n",
      "+----+----+\n",
      "only showing top 20 rows\n",
      "\n"
     ]
    }
   ],
   "source": [
    "df_pyspark.select(['team','year']).show()"
   ]
  },
  {
   "cell_type": "code",
   "execution_count": 28,
   "metadata": {},
   "outputs": [
    {
     "data": {
      "text/plain": [
       "[('team', 'string'),\n",
       " ('year', 'int'),\n",
       " ('athletes', 'int'),\n",
       " ('events', 'int'),\n",
       " ('age', 'double'),\n",
       " ('height', 'double'),\n",
       " ('weight', 'double'),\n",
       " ('prev_medals', 'double'),\n",
       " ('medals', 'int')]"
      ]
     },
     "execution_count": 28,
     "metadata": {},
     "output_type": "execute_result"
    }
   ],
   "source": [
    "df_pyspark.dtypes"
   ]
  },
  {
   "cell_type": "code",
   "execution_count": 29,
   "metadata": {},
   "outputs": [
    {
     "name": "stdout",
     "output_type": "stream",
     "text": [
      "+-------+----+------------------+-----------------+------------------+------------------+------------------+-----------------+------------------+------------------+\n",
      "|summary|team|              year|         athletes|            events|               age|            height|           weight|       prev_medals|            medals|\n",
      "+-------+----+------------------+-----------------+------------------+------------------+------------------+-----------------+------------------+------------------+\n",
      "|  count|2014|              2014|             2014|              2014|              2014|              2014|             2014|              2014|              2014|\n",
      "|   mean|NULL| 1995.227408142999|76.32969215491559| 36.87785501489573|  24.8126117179742|173.95516385302867|69.32899702085403| 10.24875868917577|10.990069513406157|\n",
      "| stddev|NULL|15.227727329373192|129.7994269982944|50.130876662984214|2.7582581296478117| 5.262469226761085| 7.49474021804009|31.951919697073418| 33.62752788400897|\n",
      "|    min| AFG|              1964|                1|                 1|              17.0|             151.0|             43.3|               0.0|                 0|\n",
      "|    max| ZIM|              2016|              839|               270|              66.0|             193.0|            148.0|             442.0|               442|\n",
      "+-------+----+------------------+-----------------+------------------+------------------+------------------+-----------------+------------------+------------------+\n",
      "\n"
     ]
    }
   ],
   "source": [
    "df_pyspark.describe().show()"
   ]
  },
  {
   "cell_type": "code",
   "execution_count": 33,
   "metadata": {},
   "outputs": [],
   "source": [
    "##ADDING COLUMNS\n",
    "df_pyspark1 = df_pyspark.withColumn('Keterangan', df_pyspark['year']+2)"
   ]
  },
  {
   "cell_type": "code",
   "execution_count": 35,
   "metadata": {},
   "outputs": [
    {
     "name": "stdout",
     "output_type": "stream",
     "text": [
      "+----+----+--------+------+----+------+------+-----------+------+----------+\n",
      "|team|year|athletes|events| age|height|weight|prev_medals|medals|Keterangan|\n",
      "+----+----+--------+------+----+------+------+-----------+------+----------+\n",
      "| AFG|1964|       8|     8|22.0| 161.0|  64.2|        0.0|     0|      1966|\n",
      "| AFG|1968|       5|     5|23.2| 170.2|  70.0|        0.0|     0|      1970|\n",
      "| AFG|1972|       8|     8|29.0| 168.3|  63.8|        0.0|     0|      1974|\n",
      "| AFG|1980|      11|    11|23.6| 168.4|  63.2|        0.0|     0|      1982|\n",
      "| AFG|2004|       5|     5|18.6| 170.8|  64.8|        0.0|     0|      2006|\n",
      "| AFG|2008|       4|     4|22.5| 179.2|  62.8|        0.0|     1|      2010|\n",
      "| AFG|2012|       6|     6|24.8| 171.7|  60.8|        1.0|     1|      2014|\n",
      "| AFG|2016|       3|     3|24.7| 173.7|  74.0|        1.0|     0|      2018|\n",
      "| AHO|1964|       4|     4|28.5| 171.2|  69.4|        0.0|     0|      1966|\n",
      "| AHO|1968|       5|     4|31.0| 173.2|  67.8|        0.0|     0|      1970|\n",
      "| AHO|1972|       2|     2|38.5| 164.0|  86.0|        0.0|     0|      1974|\n",
      "| AHO|1976|       4|     4|27.3| 174.5|  66.0|        0.0|     0|      1978|\n",
      "| AHO|1984|      13|    10|18.2| 181.1|  69.8|        0.0|     0|      1986|\n",
      "| AHO|1988|       4|     4|25.0| 193.0|  80.0|        0.0|     1|      1990|\n",
      "| AHO|1992|       4|     4|30.2| 178.0|  83.5|        1.0|     0|      1994|\n",
      "| AHO|1996|       7|     7|30.1| 178.0|  83.2|        0.0|     0|      1998|\n",
      "| AHO|2000|       8|     8|30.6| 179.1|  79.6|        0.0|     0|      2002|\n",
      "| AHO|2004|       3|     3|32.3| 183.7|  80.0|        0.0|     0|      2006|\n",
      "| AHO|2008|       4|     4|23.0| 178.8|  74.5|        0.0|     0|      2010|\n",
      "| ALB|1996|       9|     7|26.8| 169.0|  67.5|        0.0|     0|      1998|\n",
      "+----+----+--------+------+----+------+------+-----------+------+----------+\n",
      "only showing top 20 rows\n",
      "\n"
     ]
    }
   ],
   "source": [
    "df_pyspark1.show()"
   ]
  },
  {
   "cell_type": "code",
   "execution_count": 37,
   "metadata": {},
   "outputs": [
    {
     "name": "stdout",
     "output_type": "stream",
     "text": [
      "+----+----+--------+------+----+------+------+-----------+------+\n",
      "|team|year|athletes|events| age|height|weight|prev_medals|medals|\n",
      "+----+----+--------+------+----+------+------+-----------+------+\n",
      "| AFG|1964|       8|     8|22.0| 161.0|  64.2|        0.0|     0|\n",
      "| AFG|1968|       5|     5|23.2| 170.2|  70.0|        0.0|     0|\n",
      "| AFG|1972|       8|     8|29.0| 168.3|  63.8|        0.0|     0|\n",
      "| AFG|1980|      11|    11|23.6| 168.4|  63.2|        0.0|     0|\n",
      "| AFG|2004|       5|     5|18.6| 170.8|  64.8|        0.0|     0|\n",
      "| AFG|2008|       4|     4|22.5| 179.2|  62.8|        0.0|     1|\n",
      "| AFG|2012|       6|     6|24.8| 171.7|  60.8|        1.0|     1|\n",
      "| AFG|2016|       3|     3|24.7| 173.7|  74.0|        1.0|     0|\n",
      "| AHO|1964|       4|     4|28.5| 171.2|  69.4|        0.0|     0|\n",
      "| AHO|1968|       5|     4|31.0| 173.2|  67.8|        0.0|     0|\n",
      "| AHO|1972|       2|     2|38.5| 164.0|  86.0|        0.0|     0|\n",
      "| AHO|1976|       4|     4|27.3| 174.5|  66.0|        0.0|     0|\n",
      "| AHO|1984|      13|    10|18.2| 181.1|  69.8|        0.0|     0|\n",
      "| AHO|1988|       4|     4|25.0| 193.0|  80.0|        0.0|     1|\n",
      "| AHO|1992|       4|     4|30.2| 178.0|  83.5|        1.0|     0|\n",
      "| AHO|1996|       7|     7|30.1| 178.0|  83.2|        0.0|     0|\n",
      "| AHO|2000|       8|     8|30.6| 179.1|  79.6|        0.0|     0|\n",
      "| AHO|2004|       3|     3|32.3| 183.7|  80.0|        0.0|     0|\n",
      "| AHO|2008|       4|     4|23.0| 178.8|  74.5|        0.0|     0|\n",
      "| ALB|1996|       9|     7|26.8| 169.0|  67.5|        0.0|     0|\n",
      "+----+----+--------+------+----+------+------+-----------+------+\n",
      "only showing top 20 rows\n",
      "\n"
     ]
    }
   ],
   "source": [
    "##drop columns\n",
    "df_pyspark1.drop('Keterangan').show()"
   ]
  },
  {
   "cell_type": "code",
   "execution_count": 39,
   "metadata": {},
   "outputs": [
    {
     "name": "stdout",
     "output_type": "stream",
     "text": [
      "+----+----+--------+------+----+------+------+-----------+------+----------+\n",
      "|team|Year|athletes|events| age|height|weight|prev_medals|medals|Keterangan|\n",
      "+----+----+--------+------+----+------+------+-----------+------+----------+\n",
      "| AFG|1964|       8|     8|22.0| 161.0|  64.2|        0.0|     0|      1966|\n",
      "| AFG|1968|       5|     5|23.2| 170.2|  70.0|        0.0|     0|      1970|\n",
      "| AFG|1972|       8|     8|29.0| 168.3|  63.8|        0.0|     0|      1974|\n",
      "| AFG|1980|      11|    11|23.6| 168.4|  63.2|        0.0|     0|      1982|\n",
      "| AFG|2004|       5|     5|18.6| 170.8|  64.8|        0.0|     0|      2006|\n",
      "| AFG|2008|       4|     4|22.5| 179.2|  62.8|        0.0|     1|      2010|\n",
      "| AFG|2012|       6|     6|24.8| 171.7|  60.8|        1.0|     1|      2014|\n",
      "| AFG|2016|       3|     3|24.7| 173.7|  74.0|        1.0|     0|      2018|\n",
      "| AHO|1964|       4|     4|28.5| 171.2|  69.4|        0.0|     0|      1966|\n",
      "| AHO|1968|       5|     4|31.0| 173.2|  67.8|        0.0|     0|      1970|\n",
      "| AHO|1972|       2|     2|38.5| 164.0|  86.0|        0.0|     0|      1974|\n",
      "| AHO|1976|       4|     4|27.3| 174.5|  66.0|        0.0|     0|      1978|\n",
      "| AHO|1984|      13|    10|18.2| 181.1|  69.8|        0.0|     0|      1986|\n",
      "| AHO|1988|       4|     4|25.0| 193.0|  80.0|        0.0|     1|      1990|\n",
      "| AHO|1992|       4|     4|30.2| 178.0|  83.5|        1.0|     0|      1994|\n",
      "| AHO|1996|       7|     7|30.1| 178.0|  83.2|        0.0|     0|      1998|\n",
      "| AHO|2000|       8|     8|30.6| 179.1|  79.6|        0.0|     0|      2002|\n",
      "| AHO|2004|       3|     3|32.3| 183.7|  80.0|        0.0|     0|      2006|\n",
      "| AHO|2008|       4|     4|23.0| 178.8|  74.5|        0.0|     0|      2010|\n",
      "| ALB|1996|       9|     7|26.8| 169.0|  67.5|        0.0|     0|      1998|\n",
      "+----+----+--------+------+----+------+------+-----------+------+----------+\n",
      "only showing top 20 rows\n",
      "\n"
     ]
    }
   ],
   "source": [
    "#Renaming column\n",
    "df_pyspark1.withColumnRenamed('year', 'Year').show()"
   ]
  },
  {
   "cell_type": "code",
   "execution_count": null,
   "metadata": {},
   "outputs": [],
   "source": [
    "#handlin missing value\n"
   ]
  }
 ],
 "metadata": {
  "kernelspec": {
   "display_name": ".venv",
   "language": "python",
   "name": "python3"
  },
  "language_info": {
   "codemirror_mode": {
    "name": "ipython",
    "version": 3
   },
   "file_extension": ".py",
   "mimetype": "text/x-python",
   "name": "python",
   "nbconvert_exporter": "python",
   "pygments_lexer": "ipython3",
   "version": "3.12.0"
  }
 },
 "nbformat": 4,
 "nbformat_minor": 2
}
