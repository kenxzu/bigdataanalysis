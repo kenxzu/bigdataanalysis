{
 "cells": [
  {
   "cell_type": "code",
   "execution_count": 2,
   "metadata": {
    "execution": {
     "iopub.execute_input": "2024-06-10T08:32:18.570055Z",
     "iopub.status.busy": "2024-06-10T08:32:18.569500Z",
     "iopub.status.idle": "2024-06-10T08:32:18.578284Z",
     "shell.execute_reply": "2024-06-10T08:32:18.576724Z",
     "shell.execute_reply.started": "2024-06-10T08:32:18.570020Z"
    },
    "trusted": true
   },
   "outputs": [],
   "source": [
    "import pandas as pd\n",
    "\n",
    "import pyspark\n",
    "from pyspark.sql import SparkSession\n",
    "from pyspark.ml.regression import LinearRegression\n",
    "from pyspark.ml.feature import VectorAssembler\n"
   ]
  },
  {
   "cell_type": "markdown",
   "metadata": {},
   "source": [
    "This is spark version..\n"
   ]
  },
  {
   "cell_type": "markdown",
   "metadata": {},
   "source": [
    "coba-coba spark\n"
   ]
  },
  {
   "cell_type": "code",
   "execution_count": 18,
   "metadata": {},
   "outputs": [
    {
     "data": {
      "text/plain": [
       "pandas.core.frame.DataFrame"
      ]
     },
     "execution_count": 18,
     "metadata": {},
     "output_type": "execute_result"
    }
   ],
   "source": [
    "type(pd.read_csv('teams.csv'))"
   ]
  },
  {
   "cell_type": "code",
   "execution_count": 4,
   "metadata": {},
   "outputs": [],
   "source": [
    "spark = SparkSession.builder.appName('Practice').getOrCreate()"
   ]
  },
  {
   "cell_type": "code",
   "execution_count": 5,
   "metadata": {},
   "outputs": [
    {
     "data": {
      "text/html": [
       "\n",
       "            <div>\n",
       "                <p><b>SparkSession - in-memory</b></p>\n",
       "                \n",
       "        <div>\n",
       "            <p><b>SparkContext</b></p>\n",
       "\n",
       "            <p><a href=\"http://DESKTOP-3PI0VP7:4040\">Spark UI</a></p>\n",
       "\n",
       "            <dl>\n",
       "              <dt>Version</dt>\n",
       "                <dd><code>v3.5.1</code></dd>\n",
       "              <dt>Master</dt>\n",
       "                <dd><code>local[*]</code></dd>\n",
       "              <dt>AppName</dt>\n",
       "                <dd><code>Practice</code></dd>\n",
       "            </dl>\n",
       "        </div>\n",
       "        \n",
       "            </div>\n",
       "        "
      ],
      "text/plain": [
       "<pyspark.sql.session.SparkSession at 0x1c1a914eff0>"
      ]
     },
     "execution_count": 5,
     "metadata": {},
     "output_type": "execute_result"
    }
   ],
   "source": [
    "spark"
   ]
  },
  {
   "cell_type": "code",
   "execution_count": 23,
   "metadata": {},
   "outputs": [],
   "source": [
    "df_pyspark=spark.read.csv('teams.csv')"
   ]
  },
  {
   "cell_type": "code",
   "execution_count": 24,
   "metadata": {},
   "outputs": [
    {
     "name": "stdout",
     "output_type": "stream",
     "text": [
      "+----+----+--------+------+----+------+------+-----------+------+\n",
      "| _c0| _c1|     _c2|   _c3| _c4|   _c5|   _c6|        _c7|   _c8|\n",
      "+----+----+--------+------+----+------+------+-----------+------+\n",
      "|team|year|athletes|events| age|height|weight|prev_medals|medals|\n",
      "| AFG|1964|       8|     8|22.0| 161.0|  64.2|        0.0|     0|\n",
      "| AFG|1968|       5|     5|23.2| 170.2|  70.0|        0.0|     0|\n",
      "| AFG|1972|       8|     8|29.0| 168.3|  63.8|        0.0|     0|\n",
      "| AFG|1980|      11|    11|23.6| 168.4|  63.2|        0.0|     0|\n",
      "| AFG|2004|       5|     5|18.6| 170.8|  64.8|        0.0|     0|\n",
      "| AFG|2008|       4|     4|22.5| 179.2|  62.8|        0.0|     1|\n",
      "| AFG|2012|       6|     6|24.8| 171.7|  60.8|        1.0|     1|\n",
      "| AFG|2016|       3|     3|24.7| 173.7|  74.0|        1.0|     0|\n",
      "| AHO|1964|       4|     4|28.5| 171.2|  69.4|        0.0|     0|\n",
      "| AHO|1968|       5|     4|31.0| 173.2|  67.8|        0.0|     0|\n",
      "| AHO|1972|       2|     2|38.5| 164.0|  86.0|        0.0|     0|\n",
      "| AHO|1976|       4|     4|27.3| 174.5|  66.0|        0.0|     0|\n",
      "| AHO|1984|      13|    10|18.2| 181.1|  69.8|        0.0|     0|\n",
      "| AHO|1988|       4|     4|25.0| 193.0|  80.0|        0.0|     1|\n",
      "| AHO|1992|       4|     4|30.2| 178.0|  83.5|        1.0|     0|\n",
      "| AHO|1996|       7|     7|30.1| 178.0|  83.2|        0.0|     0|\n",
      "| AHO|2000|       8|     8|30.6| 179.1|  79.6|        0.0|     0|\n",
      "| AHO|2004|       3|     3|32.3| 183.7|  80.0|        0.0|     0|\n",
      "| AHO|2008|       4|     4|23.0| 178.8|  74.5|        0.0|     0|\n",
      "+----+----+--------+------+----+------+------+-----------+------+\n",
      "only showing top 20 rows\n",
      "\n"
     ]
    }
   ],
   "source": [
    "df_pyspark.show()"
   ]
  },
  {
   "cell_type": "code",
   "execution_count": 28,
   "metadata": {},
   "outputs": [],
   "source": [
    "df_pyspark=spark.read.option('header', 'True').csv('teams.csv')"
   ]
  },
  {
   "cell_type": "code",
   "execution_count": 30,
   "metadata": {},
   "outputs": [
    {
     "data": {
      "text/plain": [
       "pyspark.sql.dataframe.DataFrame"
      ]
     },
     "execution_count": 30,
     "metadata": {},
     "output_type": "execute_result"
    }
   ],
   "source": [
    "type(df_pyspark)"
   ]
  },
  {
   "cell_type": "code",
   "execution_count": 32,
   "metadata": {},
   "outputs": [
    {
     "name": "stdout",
     "output_type": "stream",
     "text": [
      "root\n",
      " |-- team: string (nullable = true)\n",
      " |-- year: string (nullable = true)\n",
      " |-- athletes: string (nullable = true)\n",
      " |-- events: string (nullable = true)\n",
      " |-- age: string (nullable = true)\n",
      " |-- height: string (nullable = true)\n",
      " |-- weight: string (nullable = true)\n",
      " |-- prev_medals: string (nullable = true)\n",
      " |-- medals: string (nullable = true)\n",
      "\n"
     ]
    }
   ],
   "source": [
    "df_pyspark.printSchema()"
   ]
  },
  {
   "cell_type": "code",
   "execution_count": null,
   "metadata": {},
   "outputs": [],
   "source": []
  },
  {
   "cell_type": "code",
   "execution_count": null,
   "metadata": {},
   "outputs": [],
   "source": []
  },
  {
   "cell_type": "code",
   "execution_count": null,
   "metadata": {},
   "outputs": [],
   "source": []
  },
  {
   "cell_type": "code",
   "execution_count": null,
   "metadata": {},
   "outputs": [],
   "source": []
  },
  {
   "cell_type": "code",
   "execution_count": null,
   "metadata": {},
   "outputs": [],
   "source": []
  },
  {
   "cell_type": "markdown",
   "metadata": {},
   "source": [
    "akhir dari coba-coba\n"
   ]
  },
  {
   "cell_type": "code",
   "execution_count": 6,
   "metadata": {
    "execution": {
     "iopub.execute_input": "2024-06-10T08:22:39.461235Z",
     "iopub.status.busy": "2024-06-10T08:22:39.460791Z",
     "iopub.status.idle": "2024-06-10T08:22:47.087236Z",
     "shell.execute_reply": "2024-06-10T08:22:47.085687Z",
     "shell.execute_reply.started": "2024-06-10T08:22:39.461205Z"
    },
    "trusted": true
   },
   "outputs": [
    {
     "name": "stderr",
     "output_type": "stream",
     "text": [
      "Setting default log level to \"WARN\".\n",
      "To adjust logging level use sc.setLogLevel(newLevel). For SparkR, use setLogLevel(newLevel).\n",
      "24/06/10 08:22:44 WARN NativeCodeLoader: Unable to load native-hadoop library for your platform... using builtin-java classes where applicable\n"
     ]
    }
   ],
   "source": [
    "spark= SparkSession.builder.appName('BelajarRegresiDiSpark').getOrCreate()"
   ]
  },
  {
   "cell_type": "code",
   "execution_count": 4,
   "metadata": {
    "execution": {
     "iopub.execute_input": "2024-06-10T08:20:08.564000Z",
     "iopub.status.busy": "2024-06-10T08:20:08.563495Z",
     "iopub.status.idle": "2024-06-10T08:20:08.797468Z",
     "shell.execute_reply": "2024-06-10T08:20:08.796177Z",
     "shell.execute_reply.started": "2024-06-10T08:20:08.563963Z"
    },
    "trusted": true
   },
   "outputs": [
    {
     "name": "stdout",
     "output_type": "stream",
     "text": [
      "(1000, 5)\n",
      "(1000,)\n"
     ]
    }
   ],
   "source": [
    "# Create fake data\n",
    "from sklearn.datasets import make_regression\n",
    "\n",
    "X, y = make_regression(n_samples=1000, n_features=5, noise=1, random_state=42)\n",
    "print(X.shape)\n",
    "print(y.shape)"
   ]
  },
  {
   "cell_type": "code",
   "execution_count": 9,
   "metadata": {
    "execution": {
     "iopub.execute_input": "2024-06-10T08:26:34.845745Z",
     "iopub.status.busy": "2024-06-10T08:26:34.845019Z",
     "iopub.status.idle": "2024-06-10T08:26:34.883595Z",
     "shell.execute_reply": "2024-06-10T08:26:34.881396Z",
     "shell.execute_reply.started": "2024-06-10T08:26:34.845708Z"
    },
    "trusted": true
   },
   "outputs": [
    {
     "name": "stdout",
     "output_type": "stream",
     "text": [
      "     feature_0  feature_1  feature_2  feature_3  feature_4      label\n",
      "0     2.056544   0.606851   0.482688  -1.130888   0.420094  74.529768\n",
      "1    -0.799192  -0.645964  -0.182896  -0.482744   1.374876 -42.554556\n",
      "2     1.076007  -0.796026  -0.751969   0.021312  -0.319054 -25.348101\n",
      "3    -0.103255  -0.828497   1.489863  -1.643189  -1.600904 -86.770922\n",
      "4    -2.063403   0.503252  -0.645572  -0.317350  -1.661083 -85.874608\n",
      "..         ...        ...        ...        ...        ...        ...\n",
      "995   0.689708  -1.292263   1.749584  -0.502975   1.381454   4.170422\n",
      "996   0.645216   0.521122  -0.054894   0.555604   0.285554  61.185770\n",
      "997   0.499685   0.239405   1.487246   0.472002  -0.580053  51.307660\n",
      "998  -0.641487   0.019148  -0.661982   0.487872   0.425887  -8.595079\n",
      "999   0.915390  -0.833056  -1.776246  -0.549540  -0.080600 -57.195629\n",
      "\n",
      "[1000 rows x 6 columns]\n"
     ]
    }
   ],
   "source": [
    "# convert to pandas:\n",
    "data = pd.DataFrame(X, columns=[f\"feature_{i}\" for i in range(X.shape[1])])\n",
    "data['label'] = y\n",
    "print(data)"
   ]
  },
  {
   "cell_type": "code",
   "execution_count": 10,
   "metadata": {
    "execution": {
     "iopub.execute_input": "2024-06-10T08:27:39.117262Z",
     "iopub.status.busy": "2024-06-10T08:27:39.116729Z",
     "iopub.status.idle": "2024-06-10T08:27:42.913405Z",
     "shell.execute_reply": "2024-06-10T08:27:42.911786Z",
     "shell.execute_reply.started": "2024-06-10T08:27:39.117225Z"
    },
    "trusted": true
   },
   "outputs": [
    {
     "name": "stdout",
     "output_type": "stream",
     "text": [
      "DataFrame[feature_0: double, feature_1: double, feature_2: double, feature_3: double, feature_4: double, label: double]\n"
     ]
    }
   ],
   "source": [
    "# Convert to Spark DataFrame\n",
    "spark_data = spark.createDataFrame(data)\n",
    "print(spark_data)"
   ]
  },
  {
   "cell_type": "code",
   "execution_count": 11,
   "metadata": {
    "execution": {
     "iopub.execute_input": "2024-06-10T08:28:56.129781Z",
     "iopub.status.busy": "2024-06-10T08:28:56.129246Z",
     "iopub.status.idle": "2024-06-10T08:29:03.335018Z",
     "shell.execute_reply": "2024-06-10T08:29:03.333658Z",
     "shell.execute_reply.started": "2024-06-10T08:28:56.129744Z"
    },
    "trusted": true
   },
   "outputs": [
    {
     "name": "stderr",
     "output_type": "stream",
     "text": [
      "                                                                                \r"
     ]
    },
    {
     "name": "stdout",
     "output_type": "stream",
     "text": [
      "+--------------------+--------------------+--------------------+--------------------+--------------------+-------------------+\n",
      "|           feature_0|           feature_1|           feature_2|           feature_3|           feature_4|              label|\n",
      "+--------------------+--------------------+--------------------+--------------------+--------------------+-------------------+\n",
      "|  2.0565435648295414|   0.606850593215671|  0.4826878872092127| -1.1308884353259157|  0.4200944904518413|   74.5297677603984|\n",
      "| -0.7991920066502536| -0.6459641791245353|-0.18289644110484016| -0.4827435221820324|  1.3748764191481848| -42.55455597038837|\n",
      "|  1.0760071385985983|  -0.796025856803489| -0.7519693317388191| 0.02131164867194222|-0.31905393566661816|-25.348100881045564|\n",
      "|-0.10325476014904739|  -0.828497024780246|  1.4898634386020821| -1.6431888111541673| -1.6009039784765156| -86.77092227705603|\n",
      "| -2.0634031524794545|  0.5032520647495048|  -0.645572072035395| -0.3173504922425348| -1.6610834155671725| -85.87460799877226|\n",
      "|-0.21560957856802238|-0.00704498548055...| -0.4519493719118777|-0.37185788227866556| -0.7893385057196743|-37.445724807105634|\n",
      "|  0.6135179727304166|  0.1200313267182613|  0.4363236696740321| -1.0227925651984056| 0.03800347816820029|  6.656685004166156|\n",
      "| 0.23402445435314795|  0.5530400858523584|  1.8180619225578247|-0.24852861807444937|  0.7751554940347831|   71.7361580877258|\n",
      "|  1.5886269280435958|    0.14098269961206|  0.1455211977682408|  0.6954024745502987| -0.6141225650083162|  59.42347585440359|\n",
      "|  0.1825010305992134|-0.04489303012253698| -0.3998990621311371| -0.6701152004542329|   0.269294752580734|-15.614228536198166|\n",
      "| 0.18106274277108234| -0.8852486861242225| -0.5505519317084877|  1.3032780373160637| 0.31635832153614474|-6.7891550110405054|\n",
      "|  0.7835896647986067| -1.8518427315746586|   2.169936588080543| -0.6786430612941032|  -1.423682636883923| -71.15823011185563|\n",
      "| -1.2968319479558466| 0.18102155870370695|  0.6628812686674127|  0.3996879517526416|   1.173473857485325| 16.559125871515306|\n",
      "|  0.7660802783846903| 0.30179189981946597| 0.46877425607502377|  1.2269332238843076| -0.9983854391882915|  55.21415938284437|\n",
      "|   0.651391251305798|  0.9540017634932023|   0.570890510693167| -0.3152692446403456|   1.135565640180599|  87.47911124443438|\n",
      "| -1.0710536796490489|   1.235782191822154|  0.4367385517335095|  0.6802161054504494| 0.40429475496169764| 58.118984722445596|\n",
      "| -0.1449045790814313| -1.5375847964491753|  0.5720062783004729|-0.44594371386116016| -0.7047284356108838|  -90.4334993049518|\n",
      "| 0.02538842054241018|-0.04541121793223822|  0.8595878869798019| -1.9196731561976563| -0.3871306497895146| -42.54617454173377|\n",
      "| -0.8000385643976464|-0.20298063739565708| -0.6256772874962124| -0.0635245746153551| -1.3192471945987674| -68.86858684418047|\n",
      "| 0.31978193414253697| -0.6013676439512137|  0.1053755061459599| -1.5929937335316693| -1.3340254949182044| -81.22686432033456|\n",
      "+--------------------+--------------------+--------------------+--------------------+--------------------+-------------------+\n",
      "only showing top 20 rows\n",
      "\n"
     ]
    }
   ],
   "source": [
    "spark_data.show(20)"
   ]
  },
  {
   "cell_type": "code",
   "execution_count": 13,
   "metadata": {
    "execution": {
     "iopub.execute_input": "2024-06-10T08:32:49.096697Z",
     "iopub.status.busy": "2024-06-10T08:32:49.095732Z",
     "iopub.status.idle": "2024-06-10T08:32:50.576428Z",
     "shell.execute_reply": "2024-06-10T08:32:50.575124Z",
     "shell.execute_reply.started": "2024-06-10T08:32:49.096660Z"
    },
    "trusted": true
   },
   "outputs": [
    {
     "name": "stdout",
     "output_type": "stream",
     "text": [
      "+--------------------+-------------------+\n",
      "|            features|              label|\n",
      "+--------------------+-------------------+\n",
      "|[2.05654356482954...|   74.5297677603984|\n",
      "|[-0.7991920066502...| -42.55455597038837|\n",
      "|[1.07600713859859...|-25.348100881045564|\n",
      "|[-0.1032547601490...| -86.77092227705603|\n",
      "|[-2.0634031524794...| -85.87460799877226|\n",
      "+--------------------+-------------------+\n",
      "only showing top 5 rows\n",
      "\n"
     ]
    }
   ],
   "source": [
    "# Gabung semua features dalam 1 kolom\n",
    "\n",
    "assembler = VectorAssembler(inputCols=[f\"feature_{i}\" for i in range(X.shape[1])],\n",
    "                            outputCol=\"features\")\n",
    "assembled_data = assembler.transform(spark_data).select(\"features\", \"label\")\n",
    "assembled_data.show(5)"
   ]
  },
  {
   "cell_type": "code",
   "execution_count": 14,
   "metadata": {
    "execution": {
     "iopub.execute_input": "2024-06-10T08:34:51.760531Z",
     "iopub.status.busy": "2024-06-10T08:34:51.759971Z",
     "iopub.status.idle": "2024-06-10T08:34:52.256264Z",
     "shell.execute_reply": "2024-06-10T08:34:52.254798Z",
     "shell.execute_reply.started": "2024-06-10T08:34:51.760496Z"
    },
    "trusted": true
   },
   "outputs": [
    {
     "name": "stdout",
     "output_type": "stream",
     "text": [
      "+-----------------------------------------------------------------------------------------------------+-------------------+\n",
      "|features                                                                                             |label              |\n",
      "+-----------------------------------------------------------------------------------------------------+-------------------+\n",
      "|[2.0565435648295414,0.606850593215671,0.4826878872092127,-1.1308884353259157,0.4200944904518413]     |74.5297677603984   |\n",
      "|[-0.7991920066502536,-0.6459641791245353,-0.18289644110484016,-0.4827435221820324,1.3748764191481848]|-42.55455597038837 |\n",
      "|[1.0760071385985983,-0.796025856803489,-0.7519693317388191,0.02131164867194222,-0.31905393566661816] |-25.348100881045564|\n",
      "|[-0.10325476014904739,-0.828497024780246,1.4898634386020821,-1.6431888111541673,-1.6009039784765156] |-86.77092227705603 |\n",
      "|[-2.0634031524794545,0.5032520647495048,-0.645572072035395,-0.3173504922425348,-1.6610834155671725]  |-85.87460799877226 |\n",
      "+-----------------------------------------------------------------------------------------------------+-------------------+\n",
      "only showing top 5 rows\n",
      "\n"
     ]
    }
   ],
   "source": [
    "assembled_data.show(5, truncate=False)"
   ]
  },
  {
   "attachments": {
    "139a30c8-4037-4a1a-a248-ddff864c8c60.png": {
     "image/png": "[encoded data removed]"
    }
   },
   "cell_type": "markdown",
   "metadata": {},
   "source": [
    "Ordinary Least Square (OLS)\n",
    "\n",
    "![image.png](attachment:139a30c8-4037-4a1a-a248-ddff864c8c60.png)\n",
    "\n",
    "Catatan: alpha = elasticNetParam, lambda = regParam\n"
   ]
  },
  {
   "cell_type": "code",
   "execution_count": 18,
   "metadata": {
    "execution": {
     "iopub.execute_input": "2024-06-10T08:52:35.887652Z",
     "iopub.status.busy": "2024-06-10T08:52:35.887120Z",
     "iopub.status.idle": "2024-06-10T08:52:37.801789Z",
     "shell.execute_reply": "2024-06-10T08:52:37.800328Z",
     "shell.execute_reply.started": "2024-06-10T08:52:35.887613Z"
    },
    "trusted": true
   },
   "outputs": [
    {
     "name": "stderr",
     "output_type": "stream",
     "text": [
      "24/06/10 08:52:36 WARN Instrumentation: [5d0c72a6] regParam is zero, which might cause numerical instability and overfitting.\n",
      "                                                                                \r"
     ]
    },
    {
     "name": "stdout",
     "output_type": "stream",
     "text": [
      "OLS Coefficients: [28.570936618002833,46.05824998775978,16.802480061005266,24.72486156021683,19.031020252425204]\n",
      "OLS Intercept: -0.061714660140790606\n"
     ]
    }
   ],
   "source": [
    "elaPar = 0.0\n",
    "regPar = 0.0\n",
    "ols = LinearRegression(featuresCol=\"features\", \n",
    "                       labelCol=\"label\",\n",
    "                       elasticNetParam=elaPar,\n",
    "                       regParam=regPar)\n",
    "ols_model = ols.fit(assembled_data)\n",
    "print(f\"OLS Coefficients: {ols_model.coefficients}\")\n",
    "print(f\"OLS Intercept: {ols_model.intercept}\")"
   ]
  },
  {
   "cell_type": "markdown",
   "metadata": {},
   "source": [
    "Ridge\n"
   ]
  },
  {
   "cell_type": "code",
   "execution_count": 20,
   "metadata": {
    "execution": {
     "iopub.execute_input": "2024-06-10T08:53:53.393493Z",
     "iopub.status.busy": "2024-06-10T08:53:53.392993Z",
     "iopub.status.idle": "2024-06-10T08:53:55.515656Z",
     "shell.execute_reply": "2024-06-10T08:53:55.514314Z",
     "shell.execute_reply.started": "2024-06-10T08:53:53.393456Z"
    },
    "trusted": true
   },
   "outputs": [
    {
     "name": "stderr",
     "output_type": "stream",
     "text": [
      "                                                                                \r"
     ]
    },
    {
     "name": "stdout",
     "output_type": "stream",
     "text": [
      "Ridge Coefficients: [28.525093658118383,45.988100605637875,16.780198779569925,24.686659585088716,18.999932950725753]\n",
      "Ridge Intercept: -0.060347831355858854\n"
     ]
    }
   ],
   "source": [
    "elaPar = 0.0\n",
    "regPar = 0.1\n",
    "ridge = LinearRegression(featuresCol=\"features\", \n",
    "                       labelCol=\"label\",\n",
    "                       elasticNetParam=elaPar,\n",
    "                       regParam=regPar)\n",
    "ridge_model = ridge.fit(assembled_data)\n",
    "print(f\"Ridge Coefficients: {ridge_model.coefficients}\")\n",
    "print(f\"Ridge Intercept: {ridge_model.intercept}\")"
   ]
  },
  {
   "cell_type": "markdown",
   "metadata": {},
   "source": [
    "Lasso\n"
   ]
  },
  {
   "cell_type": "code",
   "execution_count": 21,
   "metadata": {
    "execution": {
     "iopub.execute_input": "2024-06-10T08:54:31.206304Z",
     "iopub.status.busy": "2024-06-10T08:54:31.205891Z",
     "iopub.status.idle": "2024-06-10T08:54:36.058399Z",
     "shell.execute_reply": "2024-06-10T08:54:36.057187Z",
     "shell.execute_reply.started": "2024-06-10T08:54:31.206273Z"
    },
    "trusted": true
   },
   "outputs": [
    {
     "name": "stderr",
     "output_type": "stream",
     "text": [
      "                                                                                \r"
     ]
    },
    {
     "name": "stdout",
     "output_type": "stream",
     "text": [
      "Lasso Coefficients: [28.461400198125272,45.963320598542175,16.70637979575537,24.624531268358076,18.929591686913184]\n",
      "Lasso Intercept: -0.058893240644149365\n"
     ]
    },
    {
     "name": "stderr",
     "output_type": "stream",
     "text": [
      "                                                                                \r"
     ]
    }
   ],
   "source": [
    "elaPar = 1.0\n",
    "regPar = 0.1\n",
    "lasso = LinearRegression(featuresCol=\"features\", \n",
    "                       labelCol=\"label\",\n",
    "                       elasticNetParam=elaPar,\n",
    "                       regParam=regPar)\n",
    "lasso_model = lasso.fit(assembled_data)\n",
    "print(f\"Lasso Coefficients: {lasso_model.coefficients}\")\n",
    "print(f\"Lasso Intercept: {lasso_model.intercept}\")"
   ]
  },
  {
   "cell_type": "code",
   "execution_count": 22,
   "metadata": {
    "execution": {
     "iopub.execute_input": "2024-06-10T08:56:03.137289Z",
     "iopub.status.busy": "2024-06-10T08:56:03.136845Z",
     "iopub.status.idle": "2024-06-10T08:56:04.813359Z",
     "shell.execute_reply": "2024-06-10T08:56:04.811507Z",
     "shell.execute_reply.started": "2024-06-10T08:56:03.137260Z"
    },
    "trusted": true
   },
   "outputs": [
    {
     "name": "stderr",
     "output_type": "stream",
     "text": [
      "                                                                                \r"
     ]
    },
    {
     "name": "stdout",
     "output_type": "stream",
     "text": [
      "Elastic-Net Coefficients: [28.493272924810093,45.97571878333301,16.743317790462054,24.6556191059137,18.964790487693556]\n",
      "Elastic-Net Intercept: -0.05962107297935225\n"
     ]
    },
    {
     "name": "stderr",
     "output_type": "stream",
     "text": [
      "                                                                                \r"
     ]
    }
   ],
   "source": [
    "elaPar = 0.5\n",
    "regPar = 0.1\n",
    "elastic_net = LinearRegression(featuresCol=\"features\", \n",
    "                       labelCol=\"label\",\n",
    "                       elasticNetParam=elaPar,\n",
    "                       regParam=regPar)\n",
    "elastic_net_model = elastic_net.fit(assembled_data)\n",
    "print(f\"Elastic-Net Coefficients: {elastic_net_model.coefficients}\")\n",
    "print(f\"Elastic-Net Intercept: {elastic_net_model.intercept}\")"
   ]
  },
  {
   "cell_type": "code",
   "execution_count": null,
   "metadata": {},
   "outputs": [],
   "source": []
  }
 ],
 "metadata": {
  "kaggle": {
   "accelerator": "none",
   "dataSources": [],
   "dockerImageVersionId": 30732,
   "isGpuEnabled": false,
   "isInternetEnabled": true,
   "language": "python",
   "sourceType": "notebook"
  },
  "kernelspec": {
   "display_name": ".venv",
   "language": "python",
   "name": "python3"
  },
  "language_info": {
   "codemirror_mode": {
    "name": "ipython",
    "version": 3
   },
   "file_extension": ".py",
   "mimetype": "text/x-python",
   "name": "python",
   "nbconvert_exporter": "python",
   "pygments_lexer": "ipython3",
   "version": "3.12.0"
  }
 },
 "nbformat": 4,
 "nbformat_minor": 4
}
